{
 "cells": [
  {
   "cell_type": "code",
   "execution_count": 2,
   "id": "d91024a7",
   "metadata": {},
   "outputs": [],
   "source": [
    "import tkinter as tk\n",
    "import re\n",
    "\n",
    "# Define the chatbot responses\n",
    "responses = {\n",
    "    \"hello\": \"Hi there! How can I help you today?\",\n",
    "    \"how are you\": \"I'm just a bunch of code, but I'm doing great! How about you?\",\n",
    "    \"bye\": \"Goodbye! Have a great day!\",\n",
    "    \"default\": \"I'm sorry, I don't understand that.\"\n",
    "}\n",
    "\n",
    "def get_response(user_input):\n",
    "    user_input = user_input.lower()\n",
    "    for pattern in responses:\n",
    "        if re.search(pattern, user_input):\n",
    "            return responses[pattern]\n",
    "    return responses[\"default\"]\n",
    "\n",
    "def on_send():\n",
    "    user_input = entry.get()\n",
    "    chat_log.insert(tk.END, \"You: \" + user_input + \"\\n\")\n",
    "    response = get_response(user_input)\n",
    "    chat_log.insert(tk.END, \"Bot: \" + response + \"\\n\")\n",
    "    entry.delete(0, tk.END)\n",
    "\n",
    "# Create the main window\n",
    "window = tk.Tk()\n",
    "window.title(\"Chatbot\")\n",
    "\n",
    "# Create the chat log\n",
    "chat_log = tk.Text(window, height=20, width=50)\n",
    "chat_log.pack()\n",
    "\n",
    "# Create the entry box\n",
    "entry = tk.Entry(window, width=50)\n",
    "entry.pack()\n",
    "\n",
    "# Create the send button\n",
    "send_button = tk.Button(window, text=\"Send\", command=on_send)\n",
    "send_button.pack()\n",
    "\n",
    "# Run the main loop\n",
    "window.mainloop()\n"
   ]
  },
  {
   "cell_type": "code",
   "execution_count": null,
   "id": "b20080a1",
   "metadata": {},
   "outputs": [],
   "source": []
  }
 ],
 "metadata": {
  "kernelspec": {
   "display_name": "Python 3 (ipykernel)",
   "language": "python",
   "name": "python3"
  },
  "language_info": {
   "codemirror_mode": {
    "name": "ipython",
    "version": 3
   },
   "file_extension": ".py",
   "mimetype": "text/x-python",
   "name": "python",
   "nbconvert_exporter": "python",
   "pygments_lexer": "ipython3",
   "version": "3.9.7"
  }
 },
 "nbformat": 4,
 "nbformat_minor": 5
}
