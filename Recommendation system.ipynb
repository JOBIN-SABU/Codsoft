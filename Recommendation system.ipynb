{
 "cells": [
  {
   "cell_type": "code",
   "execution_count": null,
   "id": "1c47f684",
   "metadata": {},
   "outputs": [],
   "source": [
    "import tkinter as tk\n",
    "import pandas as pd\n",
    "from sklearn.metrics.pairwise import cosine_similarity\n",
    "\n",
    "# Sample data\n",
    "data = {\n",
    "    'user_id': [1, 1, 1, 2, 2, 3, 3, 3, 4, 4],\n",
    "    'movie_id': [1, 2, 3, 1, 3, 2, 3, 4, 2, 4],\n",
    "    'rating': [5, 4, 3, 4, 5, 2, 4, 5, 3, 4]\n",
    "}\n",
    "\n",
    "df = pd.DataFrame(data)\n",
    "\n",
    "# Create a user-item matrix\n",
    "user_item_matrix = df.pivot_table(index='user_id', columns='movie_id', values='rating')\n",
    "user_item_matrix = user_item_matrix.fillna(0)\n",
    "\n",
    "# Calculate cosine similarity\n",
    "user_similarity = cosine_similarity(user_item_matrix)\n",
    "user_similarity_df = pd.DataFrame(user_similarity, index=user_item_matrix.index, columns=user_item_matrix.index)\n",
    "\n",
    "def get_recommendations(user_id, num_recommendations=3):\n",
    "    similar_users = user_similarity_df[user_id].sort_values(ascending=False).index[1:]\n",
    "    recommendations = []\n",
    "\n",
    "    for similar_user in similar_users:\n",
    "        similar_user_ratings = user_item_matrix.loc[similar_user]\n",
    "        recommendations.extend(similar_user_ratings[similar_user_ratings > 0].index.tolist())\n",
    "\n",
    "    recommendations = list(set(recommendations) - set(user_item_matrix.loc[user_id][user_item_matrix.loc[user_id] > 0].index))\n",
    "    return recommendations[:num_recommendations]\n",
    "\n",
    "def on_recommend():\n",
    "    user_id = int(entry.get())\n",
    "    recommendations = get_recommendations(user_id)\n",
    "    result_text = f\"Recommendations for User {user_id}: {', '.join(map(str, recommendations))}\"\n",
    "    result_label.config(text=result_text)\n",
    "\n",
    "# Create the main window\n",
    "window = tk.Tk()\n",
    "window.title(\"Recommendation System\")\n",
    "\n",
    "# Create the entry box\n",
    "entry_label = tk.Label(window, text=\"Enter User ID:\")\n",
    "entry_label.pack()\n",
    "entry = tk.Entry(window, width=10)\n",
    "entry.pack()\n",
    "\n",
    "# Create the recommend button\n",
    "recommend_button = tk.Button(window, text=\"Recommend\", command=on_recommend)\n",
    "recommend_button.pack()\n",
    "\n",
    "# Create the result label\n",
    "result_label = tk.Label(window, text=\"\")\n",
    "result_label.pack()\n",
    "\n",
    "# Run the main loop\n",
    "window.mainloop()\n"
   ]
  },
  {
   "cell_type": "code",
   "execution_count": null,
   "id": "81d11707",
   "metadata": {},
   "outputs": [],
   "source": []
  },
  {
   "cell_type": "code",
   "execution_count": null,
   "id": "c1f3e660",
   "metadata": {},
   "outputs": [],
   "source": []
  },
  {
   "cell_type": "code",
   "execution_count": null,
   "id": "a39ce576",
   "metadata": {},
   "outputs": [],
   "source": []
  },
  {
   "cell_type": "code",
   "execution_count": null,
   "id": "a65e9c1c",
   "metadata": {},
   "outputs": [],
   "source": []
  },
  {
   "cell_type": "code",
   "execution_count": null,
   "id": "bce8f273",
   "metadata": {},
   "outputs": [],
   "source": []
  }
 ],
 "metadata": {
  "kernelspec": {
   "display_name": "Python 3 (ipykernel)",
   "language": "python",
   "name": "python3"
  },
  "language_info": {
   "codemirror_mode": {
    "name": "ipython",
    "version": 3
   },
   "file_extension": ".py",
   "mimetype": "text/x-python",
   "name": "python",
   "nbconvert_exporter": "python",
   "pygments_lexer": "ipython3",
   "version": "3.9.7"
  }
 },
 "nbformat": 4,
 "nbformat_minor": 5
}
